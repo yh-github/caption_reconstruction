{
 "cells": [
  {
   "cell_type": "code",
   "execution_count": 2,
   "id": "35d34068-15fa-431e-b4f7-be1f4fa4437d",
   "metadata": {},
   "outputs": [
    {
     "name": "stdout",
     "output_type": "stream",
     "text": [
      "Collecting seaborn\n",
      "  Downloading seaborn-0.13.2-py3-none-any.whl.metadata (5.4 kB)\n",
      "Requirement already satisfied: numpy!=1.24.0,>=1.20 in /home/yoavh/code/research/ve/lib/python3.13/site-packages (from seaborn) (2.3.1)\n",
      "Requirement already satisfied: pandas>=1.2 in /home/yoavh/code/research/ve/lib/python3.13/site-packages (from seaborn) (2.3.0)\n",
      "Requirement already satisfied: matplotlib!=3.6.1,>=3.4 in /home/yoavh/code/research/ve/lib/python3.13/site-packages (from seaborn) (3.10.3)\n",
      "Requirement already satisfied: contourpy>=1.0.1 in /home/yoavh/code/research/ve/lib/python3.13/site-packages (from matplotlib!=3.6.1,>=3.4->seaborn) (1.3.2)\n",
      "Requirement already satisfied: cycler>=0.10 in /home/yoavh/code/research/ve/lib/python3.13/site-packages (from matplotlib!=3.6.1,>=3.4->seaborn) (0.12.1)\n",
      "Requirement already satisfied: fonttools>=4.22.0 in /home/yoavh/code/research/ve/lib/python3.13/site-packages (from matplotlib!=3.6.1,>=3.4->seaborn) (4.58.4)\n",
      "Requirement already satisfied: kiwisolver>=1.3.1 in /home/yoavh/code/research/ve/lib/python3.13/site-packages (from matplotlib!=3.6.1,>=3.4->seaborn) (1.4.8)\n",
      "Requirement already satisfied: packaging>=20.0 in /home/yoavh/code/research/ve/lib/python3.13/site-packages (from matplotlib!=3.6.1,>=3.4->seaborn) (25.0)\n",
      "Requirement already satisfied: pillow>=8 in /home/yoavh/code/research/ve/lib/python3.13/site-packages (from matplotlib!=3.6.1,>=3.4->seaborn) (11.3.0)\n",
      "Requirement already satisfied: pyparsing>=2.3.1 in /home/yoavh/code/research/ve/lib/python3.13/site-packages (from matplotlib!=3.6.1,>=3.4->seaborn) (3.2.3)\n",
      "Requirement already satisfied: python-dateutil>=2.7 in /home/yoavh/code/research/ve/lib/python3.13/site-packages (from matplotlib!=3.6.1,>=3.4->seaborn) (2.9.0.post0)\n",
      "Requirement already satisfied: pytz>=2020.1 in /home/yoavh/code/research/ve/lib/python3.13/site-packages (from pandas>=1.2->seaborn) (2025.2)\n",
      "Requirement already satisfied: tzdata>=2022.7 in /home/yoavh/code/research/ve/lib/python3.13/site-packages (from pandas>=1.2->seaborn) (2025.2)\n",
      "Requirement already satisfied: six>=1.5 in /home/yoavh/code/research/ve/lib/python3.13/site-packages (from python-dateutil>=2.7->matplotlib!=3.6.1,>=3.4->seaborn) (1.17.0)\n",
      "Downloading seaborn-0.13.2-py3-none-any.whl (294 kB)\n",
      "Installing collected packages: seaborn\n",
      "Successfully installed seaborn-0.13.2\n"
     ]
    }
   ],
   "source": [
    "!pip install seaborn"
   ]
  },
  {
   "cell_type": "code",
   "execution_count": 4,
   "id": "d1532dd1-5a68-4580-aa0b-fc6c22e534c8",
   "metadata": {},
   "outputs": [
    {
     "name": "stdout",
     "output_type": "stream",
     "text": [
      "Successfully parsed the following data:\n",
      "            strategy_name  num_partitions  start_partition  num_parts_to_mask  \\\n",
      "0  BaselineRepeatStrategy               5                0                  1   \n",
      "1  BaselineRepeatStrategy               5                1                  1   \n",
      "2  BaselineRepeatStrategy               5                2                  1   \n",
      "\n",
      "   mean_f1  \n",
      "0   0.9805  \n",
      "1   0.9805  \n",
      "2   0.9806  \n"
     ]
    }
   ],
   "source": [
    "import re\n",
    "import pandas as pd\n",
    "import matplotlib.pyplot as plt\n",
    "import seaborn as sns\n",
    "import sys\n",
    "\n",
    "# --- Configuration ---\n",
    "log_file_path = \"/home/yoavh/code/research/caption_reconstruction/logs/\"+\"66a4d370059d4f0f85f57cf01e9be197.log\"\n",
    "\n",
    "# --- Data Loading and Parsing ---\n",
    "try:\n",
    "    with open(log_file_path, 'r') as f:\n",
    "        log_data = f.read()\n",
    "except FileNotFoundError:\n",
    "    print(f\"❌ Error: The file '{log_file_path}' was not found.\")\n",
    "    sys.exit(1) \n",
    "\n",
    "# --- NEW: The updated regular expression ---\n",
    "# This regex is designed to parse the new log format:\n",
    "# StrategyName__partition(key1=value1, key2=value2, ...) ... Mean F1: value\n",
    "regex = re.compile(\n",
    "    r\"(?P<strategy_name>\\w+?)__partition\\(\"\n",
    "    r\"num_partitions=(?P<num_partitions>\\d+), \"\n",
    "    r\"start_partition=(?P<start_partition>\\d+), \"\n",
    "    r\"num_parts_to_mask=(?P<num_parts_to_mask>\\d+)\"\n",
    "    r\"\\).*Mean F1: (?P<mean_f1>[\\d.]+)\"\n",
    ")\n",
    "\n",
    "results = [match.groupdict() for line in log_data.splitlines() if (match := regex.search(line))]\n",
    "df = pd.DataFrame(results)\n",
    "\n",
    "if df.empty:\n",
    "    print(\"❌ Error: No valid log entries found to plot with the new regex.\")\n",
    "    sys.exit(1)\n",
    "    \n",
    "df[['start_partition', 'num_parts_to_mask', 'mean_f1', 'num_partitions']] = df[['start_partition', 'num_parts_to_mask', 'mean_f1', 'num_partitions']].apply(pd.to_numeric)\n",
    "\n",
    "print(\"Successfully parsed the following data:\")\n",
    "print(df)\n",
    "\n"
   ]
  },
  {
   "cell_type": "code",
   "execution_count": null,
   "id": "85ed7b83-8d17-4677-92c8-d1b4921b3e8c",
   "metadata": {},
   "outputs": [],
   "source": [
    "# --- Plotting ---\n",
    "sns.set_theme(style=\"whitegrid\", palette=\"viridis\")\n",
    "\n",
    "# Graph 1: F1 vs. Mask Start Position\n",
    "plt.figure(figsize=(12, 7))\n",
    "g1 = sns.lineplot(\n",
    "    data=df,\n",
    "    x=\"start_partition\",\n",
    "    y=\"mean_f1\",\n",
    "    hue=\"strategy_name\",\n",
    "    style=\"num_parts_to_mask\",\n",
    "    markers=True,\n",
    "    dashes=False\n",
    ")\n",
    "g1.set_title(\"Mean F1 Score vs. Mask Start Partition\", fontsize=16)\n",
    "g1.set_xlabel(\"Start Partition Index\", fontsize=12)\n",
    "g1.set_ylabel(\"Mean F1 Score\", fontsize=12)\n",
    "plt.legend(title=\"Strategy & Mask Size\")\n",
    "plt.show()\n",
    "\n",
    "# Graph 2: F1 vs. Mask Size\n",
    "plt.figure(figsize=(12, 7))\n",
    "g2 = sns.lineplot(\n",
    "    data=df,\n",
    "    x=\"num_parts_to_mask\",\n",
    "    y=\"mean_f1\",\n",
    "    hue=\"strategy_name\",\n",
    "    marker=\"o\"\n",
    ")\n",
    "g2.set_title(\"Mean F1 Score vs. Number of Masked Parts\", fontsize=16)\n",
    "g2.set_xlabel(\"Number of Parts Masked\", fontsize=12)\n",
    "g2.set_ylabel(\"Mean F1 Score\", fontsize=12)\n",
    "plt.legend(title=\"Strategy\")\n",
    "plt.xticks(df['num_parts_to_mask'].unique())\n",
    "plt.show()"
   ]
  }
 ],
 "metadata": {
  "kernelspec": {
   "display_name": "Python 3 (ipykernel)",
   "language": "python",
   "name": "python3"
  },
  "language_info": {
   "codemirror_mode": {
    "name": "ipython",
    "version": 3
   },
   "file_extension": ".py",
   "mimetype": "text/x-python",
   "name": "python",
   "nbconvert_exporter": "python",
   "pygments_lexer": "ipython3",
   "version": "3.13.3"
  }
 },
 "nbformat": 4,
 "nbformat_minor": 5
}
